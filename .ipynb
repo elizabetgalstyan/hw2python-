{
 "cells": [
  {
   "cell_type": "markdown",
   "metadata": {},
   "source": [
    "## Homework 2 Submission\n",
    "Write your name and surname below:\n",
    "<br>\n",
    "Name:\n",
    "<br>\n",
    "Surname:"
   ]
  },
  {
   "cell_type": "code",
   "execution_count": null,
   "metadata": {},
   "outputs": [],
   "source": [
    "Elizabet\n",
    "Glastyan"
   ]
  },
  {
   "cell_type": "markdown",
   "metadata": {},
   "source": [
    "***Problem 1:***<br>a. Write a lambda function that raises a number to the third power and maps it on the following list creating a new list named \"result\".<br>\n",
    "b.  Define a function that takes a number as an input and returns True if it is odd and False otherwise. Filter \"result\" list keeping only odd numbers using the function defined."
   ]
  },
  {
   "cell_type": "code",
   "execution_count": 1,
   "metadata": {},
   "outputs": [
    {
     "name": "stdout",
     "output_type": "stream",
     "text": [
      "[27, 64, 125, 216, 343]\n"
     ]
    }
   ],
   "source": [
    "#a \n",
    "nums = [3, 4, 5, 6, 7]\n",
    "###_____________Start code here_________________###\n",
    "func=lambda  list : [i**3 for i in list]\n",
    "result=func(nums)\n",
    "print(result)\n",
    "###_____________End code here_________________###"
   ]
  },
  {
   "cell_type": "code",
   "execution_count": 10,
   "metadata": {},
   "outputs": [
    {
     "name": "stdout",
     "output_type": "stream",
     "text": [
      "[27, 125, 343]\n"
     ]
    }
   ],
   "source": [
    "#b\n",
    "###_____________Start code here_________________###\n",
    "def function(a):\n",
    "    if a%2==0:\n",
    "        return False\n",
    "    else: \n",
    "        return True\n",
    "fresult=list(filter(function,result))\n",
    "print(fresult)\n",
    "\n",
    "\n",
    "###_____________End code here_________________###"
   ]
  },
  {
   "cell_type": "markdown",
   "metadata": {},
   "source": [
    "***Problem 2:*** <br>Write a program that asks a user to provide  a name  and a surname and returns a new email with  \"@edu.aua.am\" ending and underscore between the name and surname.<br> **Example**:\n",
    "For a person named Steve Jobs the email should be steve_jobs@edu.aua.am."
   ]
  },
  {
   "cell_type": "code",
   "execution_count": null,
   "metadata": {},
   "outputs": [],
   "source": [
    "###_____________Start code here_________________###\n",
    "Name = input(\"Name \")\n",
    "Lastname = input(\" Lastname \")\n",
    "email= Name + \"_\" + Lastname + \"@edu.aua.am\"\n",
    "print(email)\n",
    "###_____________End code here_________________###"
   ]
  },
  {
   "cell_type": "markdown",
   "metadata": {},
   "source": [
    "***Problem 3:*** <br> a. Use an assert statement to make sure that the passed list is not empty and if it is empty report it with an expression that tells the list being empty <br>b. Write a function that asks a user to input numbers separated by a comma and return the average of numbers.<br> Make sure to warn the user if he/she provided as an input anything other than number.<br>\n",
    "**Hint:** You can use try/except."
   ]
  },
  {
   "cell_type": "code",
   "execution_count": null,
   "metadata": {},
   "outputs": [],
   "source": [
    "#a\n",
    "def avg(marks):\n",
    "    \n",
    "\n",
    "     assert(marks),\"the list is empty \"\n",
    "    \n",
    "    \n",
    "\n",
    "mark = [1,2,3]\n",
    "print(\"Average of mark:\",avg(mark))\n"
   ]
  },
  {
   "cell_type": "code",
   "execution_count": null,
   "metadata": {},
   "outputs": [],
   "source": [
    "#b\n",
    "###_____________Start code here_________________###\n",
    "\n",
    "\n",
    "\n",
    "###_____________End code here_________________###"
   ]
  },
  {
   "cell_type": "markdown",
   "metadata": {},
   "source": [
    "***Problem 4:***  <br>Given the list below, create a new one that contains all the numeric elements of the nested lists using list comprehensions.<br>\n",
    "**Note:** \"10\" is numeric. <br>\n",
    "**Hint:** Use isdigit() method to check whether a string is numeric."
   ]
  },
  {
   "cell_type": "code",
   "execution_count": null,
   "metadata": {},
   "outputs": [],
   "source": [
    "list_of_list = [[1,\"I am a string\",2,3],[4,\"5\",6,\"Not a number\"],[7,8,9,\"10\"]]\n",
    "###_____________Start code here_________________###\n",
    "\n",
    "\n",
    "newlist=[i for j in list_of_list for i in j if str(i).isdigit() ]\n",
    "print(newlist)\n",
    "\n",
    "\n",
    "###_____________End code here_________________###"
   ]
  },
  {
   "cell_type": "markdown",
   "metadata": {},
   "source": [
    "***Problem 5:***<br>Increase the following data scientists' salaries by 10 percent except for Lord Voldemort using dictionary comprehension."
   ]
  },
  {
   "cell_type": "code",
   "execution_count": null,
   "metadata": {},
   "outputs": [],
   "source": [
    "\n",
    "\n",
    "\n",
    "###_____________Start code here_________________###\n",
    "  Data_Scientist={\"Harry Potter\":700,\"Ron Weasley\":650,\"Lord Voldemort\":900,\"Hermione Granger\":800,\"Albus Dumbledore\":1000}\n",
    "    \n",
    "salaries={ (key):(int(value*1.1) if key!=\"Lord Voldemort\" else value) for key,value in Data_Scientist.items() }\n",
    "\n",
    "print(salaries)\n",
    "\n",
    "\n",
    "\n",
    "###_____________End code here_________________###"
   ]
  },
  {
   "cell_type": "markdown",
   "metadata": {},
   "source": [
    "***Problem 6:***<br>a. Create a new folder in your current directory named \"files\" and change directory into that folder.<br>\n",
    "b. There are 4 famous quotes in \"quotes\" list provided below. Create/write 4 separate txt files one for each quote.<br>\n",
    "c. List all the files in \"files\" directory and loop over the files to read the quotes and write all quotes in a new txt file called \"combined.txt\".\n",
    "<br>**Note: Do not forget to change back to your working directory for the remaining problems.**"
   ]
  },
  {
   "cell_type": "code",
   "execution_count": null,
   "metadata": {},
   "outputs": [],
   "source": [
    "#a\n",
    "###_____________Start code here_________________###\n",
    "\n",
    " import os\n",
    "os.mkdir(\"files\")\n",
    "os.chdir(\"files\")\n",
    "os.getcwd()\n",
    "###_____________End code here_________________###"
   ]
  },
  {
   "cell_type": "code",
   "execution_count": null,
   "metadata": {},
   "outputs": [],
   "source": [
    "#b\n",
    "quotes=[\"I'm going to make him an offer he can't refuse.\",\n",
    "\"The first rule of Fight Club is: You do not talk about Fight Club.\",\n",
    "\"Of all the gin joints in all the towns in all the world, she walks into mine.\", \n",
    "\"Being brave doesn't mean you go looking for trouble․\"]\n",
    "\n",
    "###_____________Start code here_________________###\n",
    "filess = [\"first\", \"second\", \"third\",\"fourth\"]\n",
    "for i in filess:\n",
    "    with open(\"{}.txt\".format(i),\"w\") as file:\n",
    "        \n",
    "        file.write(quotes[filess.index(i)])\n",
    "\n",
    "###_____________End code here_________________###"
   ]
  },
  {
   "cell_type": "code",
   "execution_count": null,
   "metadata": {},
   "outputs": [],
   "source": [
    "#c\n",
    "###_____________Start code here_________________###\n",
    "\n",
    "file = os.listdir()\n",
    "sentences=[i for i in file if \".txt\" in i]\n",
    "line=[]\n",
    "for i in sentences:\n",
    "    with open(i,\"r\") as file:\n",
    "        a=file.read()\n",
    "        line.append(a)\n",
    "with open('combined.txt',\"a\") as comb:\n",
    "    for i in line:\n",
    "        comb.write(i)\n",
    "            \n",
    "with open(\"combined.txt\",\"r\") as comb:\n",
    "    b=comb.readline()\n",
    "    print(b)\n",
    "\n",
    "###_____________End code here_________________###"
   ]
  },
  {
   "cell_type": "markdown",
   "metadata": {},
   "source": [
    "***Problem 7:***\n",
    "<br>a. Calculate the value of \"string\" expression given below.<br>\n",
    "b. Execute the code written in \"code.txt\" file attached."
   ]
  },
  {
   "cell_type": "code",
   "execution_count": null,
   "metadata": {},
   "outputs": [],
   "source": [
    "#a\n",
    "a=5\n",
    "c=2\n",
    "string='round((a+51)**c/75,-1)+1'\n",
    "\n",
    "###_____________Start code here_________________###\n",
    "\n",
    "print(eval(strring))\n",
    "\n",
    "\n",
    "###_____________End code here_________________###\n"
   ]
  },
  {
   "cell_type": "code",
   "execution_count": null,
   "metadata": {},
   "outputs": [],
   "source": [
    "#b\n",
    "\n",
    "###_____________Start code here_________________###\n",
    "code=open(\"code.txt\",\"r\")\n",
    "codetxt=code.read()\n",
    "exec(codetxt)\n",
    "\n",
    "code.close()\n",
    "\n",
    "\n",
    "\n",
    "###_____________End code here_________________###\n"
   ]
  },
  {
   "cell_type": "markdown",
   "metadata": {},
   "source": [
    "***Problem 8:***<br>\n",
    "**a.**<br> Our 5 students' test scores are now stored in the 2-d array \"student_scores\". Each row stores the corresponding test's scores. <br>\n",
    "Calculate the mean of grades of each student(columns) and the median of grades per test (rows)?"
   ]
  },
  {
   "cell_type": "code",
   "execution_count": null,
   "metadata": {},
   "outputs": [],
   "source": [
    "\n",
    "\n",
    "###_____________Start code here_________________###\n",
    "\n",
    "import numpy as np\n",
    "student_scores = np.array([[92, 94, 88, 91, 87],\n",
    "                           [79, 100, 86, 93, 91],\n",
    "                           [87, 85, 72, 90, 92]])\n",
    "median = []\n",
    "marks= []\n",
    "for i in range(5):\n",
    "    mark=(student_scores[:,i]) \n",
    "    mean = np.mean(mark)\n",
    "    marks.append(int(mean))\n",
    "\n",
    "for i in student_scores:\n",
    "    medd = np.median(i)\n",
    "    median.append(int(medd))\n",
    "print(marks)\n",
    "print(median)\n",
    "###_____________End code here_________________###"
   ]
  },
  {
   "cell_type": "markdown",
   "metadata": {},
   "source": [
    "**b.**<br>\n",
    "Create a logical statement that selects elements in \"porridge\" array that are less than 60, and saves them in a new array called \"cold\".<br>\n",
    "Create a logical statement that finds all elements that are higher than 80 and saves them in an array named \"hot\"."
   ]
  },
  {
   "cell_type": "code",
   "execution_count": null,
   "metadata": {},
   "outputs": [],
   "source": [
    "\n",
    "###_____________Start code here_________________###\n",
    "\n",
    "import numpy as np\n",
    "porridge = np.array([79, 65, 50, 63, 56, 90, 85, 98, 79, 51])\n",
    "\n",
    "hot=[i for i in porridge if i>80]\n",
    "cold=[i for i in porridge if i<60]\n",
    "print( hot,cold )\n",
    "###_____________End code here_________________###"
   ]
  },
  {
   "cell_type": "markdown",
   "metadata": {},
   "source": [
    "***Problem 9:***<br><br>**Note:** You do not have to create arrays mannualy; you can use NumPy methods for the below assignments.\n",
    "<br>**a.** Create a null vector of length 100 then assign 10 to 5th value.<br>\n",
    "**b.** Create a vector of length 10 with random integers between 1 and 10.<br>\n",
    "**c.** Convert the given 1D array to a 2D array with 5 rows and 2 columns.\n",
    "<br> **Hint:** You can use numpy's reshape, random.randint, random.random methods for the below assignments."
   ]
  },
  {
   "cell_type": "code",
   "execution_count": null,
   "metadata": {},
   "outputs": [],
   "source": [
    "#a\n",
    "###_____________Start code here_________________###\n",
    "\n",
    "import numpy as np\n",
    "vectors=np.zeros(100)\n",
    "vectors[4]=10\n",
    "print(vectors)\n",
    "\n",
    "###_____________End code here_________________###"
   ]
  },
  {
   "cell_type": "code",
   "execution_count": null,
   "metadata": {},
   "outputs": [],
   "source": [
    "#b hanel\n",
    "###_____________Start code here_________________###\n",
    "\n",
    "vect =np.random.randint(10, size=10)\n",
    "print(vect)\n",
    "\n",
    "\n",
    "###_____________End code here_________________###"
   ]
  },
  {
   "cell_type": "code",
   "execution_count": null,
   "metadata": {},
   "outputs": [],
   "source": [
    "#c\n",
    "\n",
    "###_____________Start code here_________________###\n",
    "aray=np.array([ 0, 1, 2, 3, 4, 5, 6, 7, 8, 9])\n",
    "\n",
    "arr =  np.reshape(aray, (5,2))\n",
    "print(arr)\n",
    "\n",
    "\n",
    "\n",
    "###_____________End code here_________________###"
   ]
  },
  {
   "cell_type": "markdown",
   "metadata": {},
   "source": [
    "***Problem 10:***<br>\n",
    "Create a DataFrame with the provided data. We have already filled in the information for \"Product ID\" in \"df1\".<br>\n",
    "Write a code to create the columns \"Product Name\" and \"Color\" with the data given below.</center><br>\n",
    "Products are a pair of blue jeans, a green t-shirt, a black hat and white shoes.<br>\n",
    "After all output (save) it as an .xlsx file in your current directory."
   ]
  },
  {
   "cell_type": "code",
   "execution_count": null,
   "metadata": {},
   "outputs": [],
   "source": [
    "\n",
    "    ###_____________Start code here_________________###\n",
    "    \n",
    "    \n",
    "    import pandas as pd\n",
    "df1 = pd.DataFrame({\n",
    "  'Product ID': [1, 2, 3, 4],\"Product Name\":[\"Products: black hat\",\"pair of blue jeans\",\"green t-shirt\",\"white shoes\"]})\n",
    "df1.to_excel(\"df1.xlsx\", index=False)\n",
    "print(df1)\n",
    "})\n",
    "    ###_____________End code here_________________###"
   ]
  },
  {
   "cell_type": "markdown",
   "metadata": {},
   "source": [
    "***Problem 11:***<br>Read the attached file \"titanic.csv\" as DataFrame \"df\", have a look at first 5 rows and get information about the dataset using info() method.</strong><br>\n"
   ]
  },
  {
   "cell_type": "code",
   "execution_count": null,
   "metadata": {},
   "outputs": [],
   "source": [
    "###_____________Start code here_________________###\n",
    "\n",
    "df = pd.read_csv(\"titanic.csv\")\n",
    "print(df.head())\n",
    "print(df.info())\n",
    "\n",
    "\n",
    "###_____________End code here_________________###"
   ]
  },
  {
   "cell_type": "markdown",
   "metadata": {},
   "source": [
    "Here is the description of dataset columns:\n",
    "survival - Survival (0 = No; 1 = Yes)<br>\n",
    "class - Passenger Class (1 = 1st; 2 = 2nd; 3 = 3rd)<br>\n",
    "sex - Sex<br>\n",
    "age - Age<br>\n",
    "sibsp - Number of Siblings/Spouses Aboard<br>\n",
    "parch - Number of Parents/Children Aboard<br>\n",
    "ticket - Ticket Numbe\n",
    "fare - Passenger Fare<br>\n",
    "cabin - Cabin<br>\n",
    "embarked - Port of Embarkation (C = Cherbourg; Q = Queenstown; S = Southampton)<br>\n",
    "boat - Lifeboat (if survived)<br>\n",
    "body - Body number (if did not survive and body was recovered)<br>\n",
    "home.dest - Adress of people\n",
    "<br><br>\n",
    "a. Drop columns cabin, embarked, boat, body, home.dest."
   ]
  },
  {
   "cell_type": "code",
   "execution_count": 9,
   "metadata": {},
   "outputs": [],
   "source": [
    "#a\n",
    "###_____________Start code here_________________###\n",
    "\n",
    "a =df.drop([\"cabin\",\"embarked\",\"boat\",\"body\",\"home.dest\"],axis=1)\n",
    "a\n",
    "\n",
    "###_____________End code here_________________###"
   ]
  },
  {
   "cell_type": "markdown",
   "metadata": {},
   "source": [
    "b. Check how many rows contain missing values."
   ]
  },
  {
   "cell_type": "code",
   "execution_count": null,
   "metadata": {},
   "outputs": [],
   "source": [
    "#b\n",
    "###_____________Start code here_________________###\n",
    "rw = list(df.isna().any())\n",
    "ro = 0\n",
    "for i in rw:\n",
    "    if i:\n",
    "        ro+=1\n",
    "ro\n",
    "\n",
    "###_____________End code here_________________###"
   ]
  },
  {
   "cell_type": "markdown",
   "metadata": {},
   "source": [
    "c. Fill missing values in age column by its mean or median."
   ]
  },
  {
   "cell_type": "code",
   "execution_count": null,
   "metadata": {},
   "outputs": [],
   "source": [
    "#c\n",
    "print(df.age)\n",
    "print(\"1\")\n",
    "df = df.fillna(df.age.mean())\n",
    "print(\"1\")\n",
    "print(df.age)\n",
    "\n",
    "\n",
    "\n",
    "\n",
    "\n",
    "###_____________End code here_________________###"
   ]
  },
  {
   "cell_type": "markdown",
   "metadata": {},
   "source": [
    "d. Drop remaining missing values."
   ]
  },
  {
   "cell_type": "code",
   "execution_count": 12,
   "metadata": {},
   "outputs": [],
   "source": [
    "#d\n",
    "###_____________Start code here_________________###\n",
    "df.dropna()\n",
    "\n",
    "###_____________End code here_________________###"
   ]
  },
  {
   "cell_type": "markdown",
   "metadata": {},
   "source": [
    "e. Calculate the percent of survived and not survived by sex."
   ]
  },
  {
   "cell_type": "code",
   "execution_count": 13,
   "metadata": {},
   "outputs": [],
   "source": [
    "#e\n",
    "###_____________Start code here_________________###\n",
    "\n",
    "\n",
    "###_____________End code here_________________###"
   ]
  },
  {
   "cell_type": "markdown",
   "metadata": {},
   "source": [
    "f. Create a new column named \"fare_AMD\" with the prices of tickets in AMD (1 USD = 485 AMD).<br>\n",
    "**Hint:** You can do it by applying a function on column \"fare\"."
   ]
  },
  {
   "cell_type": "code",
   "execution_count": null,
   "metadata": {},
   "outputs": [],
   "source": [
    "#f\n",
    "###_____________Start code here_________________###\n",
    "\n",
    "tit['fare_AMD']=tit['fare']*485\n",
    "tit\n",
    "###_____________End code here_________________###"
   ]
  },
  {
   "cell_type": "markdown",
   "metadata": {},
   "source": [
    "g. Round the values of \"fare\" column and add '$' sign in front of them by applying a lambda function."
   ]
  },
  {
   "cell_type": "code",
   "execution_count": null,
   "metadata": {},
   "outputs": [],
   "source": [
    "#g\n",
    "###_____________Start code here_________________###\n",
    "df[\"fare\"]=df[\"fare\"].apply(lambda x: str(round(float(x)))+ \"$\")\n",
    "\n",
    "df\n",
    "\n",
    "###_____________End code here_________________###"
   ]
  },
  {
   "cell_type": "markdown",
   "metadata": {},
   "source": [
    "**Problem 13:**<br>\n",
    "a. Find all names and ages in the text given below using regex and create dictionary where names are keys and ages are values."
   ]
  },
  {
   "cell_type": "code",
   "execution_count": null,
   "metadata": {},
   "outputs": [],
   "source": [
    "text = \"I'm Jonh and I'm 12 year old, Jack is 23 and Suzan is 45 and 2132 they all earning $100\"\n",
    "\n",
    "###_____________Start code here_________________###\n",
    "\n",
    "import re \n",
    "text = \"I'm Jonh and I'm 12 year old, Jack is 23 and Suzan is 45 and 2132 they all earning $100\"\n",
    "\n",
    "patterns=re.findall(\"([A-Z]\\w+)\",text)\n",
    "age=re.findall(\"\\d{2,2}\",text)\n",
    "pattern=dict(zip(patterns,age))\n",
    "print(pattern)\n",
    "\n",
    "###_____________End code here_________________###"
   ]
  },
  {
   "cell_type": "markdown",
   "metadata": {},
   "source": [
    "b. Substitute all email endings in the text given below with \"@hogwarts.com\" using regex."
   ]
  },
  {
   "cell_type": "code",
   "execution_count": null,
   "metadata": {},
   "outputs": [],
   "source": [
    "my_t = \"My name is Harry, my e-mail is HarryPotter@aua.am, I need to send my statement of purpose to careers@aua.am\"\n",
    "\n",
    "###_____________Start code here_________________###\n",
    "\n",
    "empty = re.sub(r'@[\\w\\.-]+',  '@hogwarts.com', my_t)\n",
    "empty\n",
    "\n",
    "###_____________End code here_________________###"
   ]
  },
  {
   "cell_type": "markdown",
   "metadata": {},
   "source": [
    "**Problem 14**\n",
    "<br>Read \"data.txt\" file attached and get all phone numbers and email addresses into separate lists using regex."
   ]
  },
  {
   "cell_type": "code",
   "execution_count": 14,
   "metadata": {},
   "outputs": [],
   "source": [
    "###_____________Start code here_________________###\n",
    "\n",
    "import re\n",
    "with open( r\"data.txt\",\"r\") as data:\n",
    "    txt=data.read()\n",
    "    \n",
    "    phones=re.findall(\"\\d+-\\d+-\\d+\",txt)\n",
    "    emails=re.findall(\"\\w+@\\w+.\\w+\",txt)\n",
    "\n",
    "    print(\"all email addresses: \",email)\n",
    "\n",
    "    print(\"all phone numbers: \",numbers,\"\\n\")\n",
    "    \n",
    "###_____________End code here_________________###"
   ]
  },
  {
   "cell_type": "markdown",
   "metadata": {},
   "source": [
    "***Problem 15***<br>Create a class of a human that has data attribute \"nationality\" as Armenian.<br> Make sure that the class instances of human class have arguments name, surname, profession and salary. <br>The class defined must have a method that returns an expression in this format: \"Hi, I am \"name\" \"surname\". I am a/an \"profession\" and I earn \"salary\" a month.\"<br>\n",
    "Create one or more isntancses of the class and call the class method defined on it or them."
   ]
  },
  {
   "cell_type": "code",
   "execution_count": 11,
   "metadata": {},
   "outputs": [],
   "source": [
    "###_____________Start code here_________________###\n",
    "class Human:\n",
    "    nationality = \"Armenian\"\n",
    "    def __init__(self, name, surname, profession, salary):\n",
    "        self.name = name\n",
    "        self.surname = surname\n",
    "        self.profession = profession\n",
    "        self.salary = salary\n",
    "    def introduce(self):\n",
    "        print (\"Hi, I am \" +self.name +\" \"+ self.surname +\". I am a \" +self.profession +\" and I earn \" +str(self.salary) +\" a month.\")\n",
    "a = Human(\"Elizabet\", \"Galstyan\",\"data scientist\",500)\n",
    "ab = Human(\"Lili\",\"Petrosyan\",\"teacher\",120)\n",
    "abc = Human(\"Suren\", \"Adamyan\",\"engineer\",1500)\n",
    "a.introduce()\n",
    "ab.introduce()\n",
    "abc.introduce()\n",
    "\n",
    "\n",
    "\n",
    "###_____________End code here_________________###"
   ]
  }
 ],
 "metadata": {
  "kernelspec": {
   "display_name": "Python 3",
   "language": "python",
   "name": "python3"
  },
  "language_info": {
   "codemirror_mode": {
    "name": "ipython",
    "version": 3
   },
   "file_extension": ".py",
   "mimetype": "text/x-python",
   "name": "python",
   "nbconvert_exporter": "python",
   "pygments_lexer": "ipython3",
   "version": "3.7.1"
  }
 },
 "nbformat": 4,
 "nbformat_minor": 2
}
